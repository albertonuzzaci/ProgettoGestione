{
 "cells": [
  {
   "cell_type": "markdown",
   "metadata": {},
   "source": [
    "# Benchmark\n",
    "\n",
    "Import the necessary libraries and the queries. "
   ]
  },
  {
   "cell_type": "code",
   "execution_count": null,
   "metadata": {},
   "outputs": [],
   "source": [
    "import os\n",
    "import json\n",
    "from evaluation.benchmarks import Benchmarks\n",
    "from whoosh.scoring import BM25F\n",
    "from doc2vec.doc2vec_model import Doc2VecModel\n",
    "from sentiment.sentiment_model import SentimentWeightingModel, AdvancedSentimentWeightingModel\n",
    "from index import Index\n",
    "from model import IRModel\n",
    "\n",
    "# file containing benchmark queries\n",
    "file_path = os.path.join(\"evaluation\", \"queries.json\")\n",
    "\n",
    "with open(file_path) as f:\n",
    "    queries = json.load(f)\n",
    "\n",
    "# Models that need to be tested. \n",
    "models = [\n",
    "\t(BM25F(), \"BM25F\"),\n",
    " \t#(Doc2VecModel(), \"Doc2Vec\"),\n",
    "\t(SentimentWeightingModel(), \"Base Sentiment\"),\n",
    "\t(AdvancedSentimentWeightingModel(), \"Advanced Sentiment\" ) \n",
    "]"
   ]
  },
  {
   "cell_type": "code",
   "execution_count": null,
   "metadata": {},
   "outputs": [],
   "source": [
    "indexes = [i for i in range(len(b.queries))]\n",
    "print(\"Benchmark queries' indexes:\")\n",
    "print(' '.join(map(str, indexes)))"
   ]
  },
  {
   "cell_type": "code",
   "execution_count": null,
   "metadata": {},
   "outputs": [],
   "source": [
    "try:\n",
    "    examined_q = 0\n",
    "    print(\"User Information Need: \" + b.queries[examined_q][\"UIN\"])\n",
    "except IndexError as e:\n",
    "    print(e)\n",
    "    print(\"index not valid\")"
   ]
  },
  {
   "cell_type": "code",
   "execution_count": null,
   "metadata": {},
   "outputs": [],
   "source": [
    "import seaborn as sns\n",
    "import pandas as pd\n",
    "\n",
    "b = Benchmark(examined_q)"
   ]
  }
 ],
 "metadata": {
  "kernelspec": {
   "display_name": "venv",
   "language": "python",
   "name": "python3"
  },
  "language_info": {
   "codemirror_mode": {
    "name": "ipython",
    "version": 3
   },
   "file_extension": ".py",
   "mimetype": "text/x-python",
   "name": "python",
   "nbconvert_exporter": "python",
   "pygments_lexer": "ipython3",
   "version": "3.11.9"
  }
 },
 "nbformat": 4,
 "nbformat_minor": 2
}
