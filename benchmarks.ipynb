{
 "cells": [
  {
   "cell_type": "code",
   "execution_count": 2,
   "metadata": {},
   "outputs": [],
   "source": [
    "import os\n",
    "import json\n",
    "from evaluation.benchmarks import Benchmarks\n",
    "\n",
    "# file containing benchmark queries\n",
    "file_path = os.path.join(\"evaluation\", \"queries.json\")\n",
    "\n",
    "with open(file_path) as f:\n",
    "    queries = json.load(f)\n",
    "\n",
    "b = Benchmarks(queries)"
   ]
  },
  {
   "cell_type": "code",
   "execution_count": 3,
   "metadata": {},
   "outputs": [
    {
     "name": "stdout",
     "output_type": "stream",
     "text": [
      "Benchmark queries' indexes:\n",
      "0\n"
     ]
    }
   ],
   "source": [
    "indexes = [i for i in range(len(b.queries))]\n",
    "print(\"Benchmark queries' indexes:\")\n",
    "print(' '.join(map(str, indexes)))"
   ]
  },
  {
   "cell_type": "code",
   "execution_count": 6,
   "metadata": {},
   "outputs": [
    {
     "name": "stdout",
     "output_type": "stream",
     "text": [
      "User Information Need: I need an apartment near st james park\n"
     ]
    }
   ],
   "source": [
    "try:\n",
    "    examined_q = 0\n",
    "    print(\"User Information Need: \" + b.queries[examined_q][\"uin\"])\n",
    "except IndexError as e:\n",
    "    print(e)\n",
    "    print(\"index not valid\")"
   ]
  },
  {
   "cell_type": "code",
   "execution_count": null,
   "metadata": {},
   "outputs": [],
   "source": [
    "from whoosh.index import open_dir\n",
    "import main\n",
    "import seaborn as sns\n",
    "import pandas as pd\n",
    "\n",
    "indexdirBase = \"indexdir/base\"\n",
    "indexdirSentiment = \"indexdir/sentiment\"\n",
    "if (not os.path.exists(indexdirBase) and not os.path.exists(indexdirSentiment)):\n",
    "        raise Exception(\"Index not found\")\n",
    "# create the 2 index objects corresponding to the main index and the sentiment index\n",
    "main_idxb, reviews_idxb = open_dir(indexdirBase + \"/main_index\"), open_dir(indexdirBase + \"/reviews_index\")\n",
    "main_idxs, reviews_idxs = open_dir(indexdirSentiment + \"/main_index\"), open_dir(indexdirSentiment + \"/reviews_index\")\n",
    "\n",
    "# there is one GameSearcher object for every version of the engine\n",
    "\n",
    "my_index = Index(forceBuildIndex=False)\n",
    "sent = AdvancedSentimentWeightingModel()\n",
    "my_model = IRModel(my_index, sent)\n",
    "control = Controller(my_index, my_model)\n",
    "\n",
    "SearcherBaseVersion = GameSearcher(main_idxb, reviews_idxb)\n",
    "SearcherSentimentAV = GameSearcher(main_idxs, reviews_idxs, True, \"av\")\n",
    "SearcherSentimentINAV = GameSearcher(main_idxs, reviews_idxs, True, \"inav\")"
   ]
  }
 ],
 "metadata": {
  "kernelspec": {
   "display_name": "venv",
   "language": "python",
   "name": "python3"
  },
  "language_info": {
   "codemirror_mode": {
    "name": "ipython",
    "version": 3
   },
   "file_extension": ".py",
   "mimetype": "text/x-python",
   "name": "python",
   "nbconvert_exporter": "python",
   "pygments_lexer": "ipython3",
   "version": "3.11.6"
  }
 },
 "nbformat": 4,
 "nbformat_minor": 2
}
